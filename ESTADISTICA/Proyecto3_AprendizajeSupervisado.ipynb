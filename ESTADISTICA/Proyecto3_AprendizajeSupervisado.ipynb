{
 "cells": [
  {
   "cell_type": "markdown",
   "metadata": {},
   "source": [
    "<p align=\"center\"><img alt=\"udeA logo\" height=\"150px\" src=\"https://github.com/freddyduitama/images/blob/master/logo.png?raw=true\"></p><h1><font color='0B5345'> <center>\n",
    "\n",
    "Probabilidad y estadística\n",
    "\n",
    " </center></font></h1>\n",
    "<h2><font color='0B5345'> <center>\n",
    "Tercer Proyecto: Aprendizaje Supervisado</center></font></h2>\n",
    "<font  face=\"Courier New\" size=\"3\">\n",
    "\n",
    "<p3><center><b><font color='0B5345' face=\"Lucida Calligraphy,Comic Sans MS,Lucida Console\" size=\"5\">Universidad de Antioquia - Bioingeniería</font></b> </center></p3>"
   ]
  },
  {
   "cell_type": "markdown",
   "metadata": {},
   "source": []
  },
  {
   "cell_type": "markdown",
   "metadata": {},
   "source": [
    "### **MODELO DE CLASIFICACIÓN**"
   ]
  },
  {
   "cell_type": "markdown",
   "metadata": {},
   "source": [
    "### **ANÁLISIS EXPLORATORIO DE DATOS**"
   ]
  },
  {
   "cell_type": "code",
   "execution_count": null,
   "metadata": {},
   "outputs": [],
   "source": [
    "import pandas as pd\n",
    "import matplotlib.pyplot as plt\n",
    "import seaborn as sns\n",
    "import numpy as np"
   ]
  },
  {
   "cell_type": "code",
   "execution_count": null,
   "metadata": {},
   "outputs": [],
   "source": [
    "df_cancer = pd.read_csv('data_cancer.csv', sep=\";\")\n",
    "df_cancer"
   ]
  },
  {
   "cell_type": "markdown",
   "metadata": {},
   "source": [
    "Intercambiamos;\n",
    "\n",
    "Benigno (B) = 0\n",
    "\n",
    "Maligno (M) = 1"
   ]
  },
  {
   "cell_type": "code",
   "execution_count": null,
   "metadata": {},
   "outputs": [],
   "source": [
    "df_cancer.replace(regex=r'B', value=0, inplace=True)\n",
    "df_cancer.replace(regex=r'M', value=1, inplace=True)"
   ]
  },
  {
   "cell_type": "code",
   "execution_count": null,
   "metadata": {},
   "outputs": [],
   "source": [
    "df_cancer.info()"
   ]
  },
  {
   "cell_type": "code",
   "execution_count": null,
   "metadata": {},
   "outputs": [],
   "source": [
    "df_cancer.describe().T"
   ]
  },
  {
   "cell_type": "markdown",
   "metadata": {},
   "source": [
    "En una inspección rápida, notamos que existen datos con valores iguales a 0. Estos datos no pueden existir ya que expresan medidas de volumen."
   ]
  },
  {
   "cell_type": "code",
   "execution_count": null,
   "metadata": {},
   "outputs": [],
   "source": [
    "for column in df_cancer.columns:\n",
    "    zero_values = (df_cancer[column] == 0).sum()\n",
    "    if zero_values != 0:\n",
    "        print(column, zero_values)"
   ]
  },
  {
   "cell_type": "markdown",
   "metadata": {},
   "source": [
    "Viendo la poca cantidad de datos, decidimos quitarlos del dataset. Diagnosis no va a ser afectado."
   ]
  },
  {
   "cell_type": "code",
   "execution_count": null,
   "metadata": {},
   "outputs": [],
   "source": [
    "df_cancer = df_cancer[(df_cancer.drop('diagnosis', axis=1) != 0).all(axis=1)]\n",
    "len(df_cancer)"
   ]
  },
  {
   "cell_type": "code",
   "execution_count": null,
   "metadata": {},
   "outputs": [],
   "source": [
    "df_cancer.describe().T"
   ]
  },
  {
   "cell_type": "markdown",
   "metadata": {},
   "source": [
    "Para facilitar la visualización de los datos aplicamos z-score a todas las columnas"
   ]
  },
  {
   "cell_type": "code",
   "execution_count": null,
   "metadata": {},
   "outputs": [],
   "source": [
    "df_cancer_z = df_cancer.drop(['diagnosis'], axis=1)\n",
    "df_cancer_z = (df_cancer_z - df_cancer_z.mean()) / df_cancer_z.std()"
   ]
  },
  {
   "cell_type": "code",
   "execution_count": null,
   "metadata": {},
   "outputs": [],
   "source": [
    "fig, axs = plt.subplots(10, 2, figsize=(15, 45))\n",
    "\n",
    "# Histogramas\n",
    "\n",
    "def hist_cancer(columna, ax1, name):\n",
    "    for a in columna:\n",
    "        sns.histplot(data=df_cancer_z, x=a, bins=20, kde=True, ax=ax1, label=a)\n",
    "    ax1.legend()\n",
    "    ax1.set_title(name)\n",
    "    ax1.set_xlabel('')\n",
    "    ax1.set_ylabel('')\n",
    "\n",
    "radio = ['radius_mean', 'radius_se', 'radius_worst']\n",
    "textura = ['texture_mean', 'texture_se', 'texture_worst']\n",
    "perimetro = ['perimeter_mean', 'perimeter_se', 'perimeter_worst']\n",
    "area = ['area_mean', 'area_se', 'area_worst']\n",
    "suavidad = ['smoothness_mean', 'smoothness_se', 'smoothness_worst']\n",
    "compactacion = ['compactness_mean', 'compactness_se', 'compactness_worst']\n",
    "concavidad = ['concavity_mean', 'concavity_se', 'concavity_worst']\n",
    "pts_concavidad = ['concave points_mean', 'concave points_se', 'concave points_worst']\n",
    "simetria = ['symmetry_mean', 'symmetry_se', 'symmetry_worst']\n",
    "dim_frac = ['fractal_dimension_mean', 'fractal_dimension_se', 'fractal_dimension_worst']\n",
    "\n",
    "hist_cancer(radio, axs[0, 0], 'Radio')\n",
    "hist_cancer(textura, axs[1, 0], 'Textura')\n",
    "hist_cancer(perimetro, axs[2, 0], 'Perimetro')\n",
    "hist_cancer(area, axs[3, 0], 'Area')\n",
    "hist_cancer(suavidad, axs[4, 0], 'Suavidad')\n",
    "hist_cancer(compactacion, axs[5, 0], 'Compactación')\n",
    "hist_cancer(concavidad, axs[6, 0], 'Concavidad')\n",
    "hist_cancer(pts_concavidad, axs[7, 0], 'Puntos de concavidad')\n",
    "hist_cancer(simetria, axs[8, 0], 'Simetria')\n",
    "hist_cancer(dim_frac, axs[9, 0], 'Dim. Fractal')\n",
    "\n",
    "sns.boxplot(data=df_cancer_z[radio], ax=axs[0, 1])\n",
    "sns.boxplot(data=df_cancer_z[textura], ax=axs[1, 1])\n",
    "sns.boxplot(data=df_cancer_z[perimetro], ax=axs[2, 1])\n",
    "sns.boxplot(data=df_cancer_z[area], ax=axs[3, 1])\n",
    "sns.boxplot(data=df_cancer_z[suavidad], ax=axs[4, 1])\n",
    "sns.boxplot(data=df_cancer_z[compactacion], ax=axs[5, 1])\n",
    "sns.boxplot(data=df_cancer_z[concavidad], ax=axs[6, 1])\n",
    "sns.boxplot(data=df_cancer_z[pts_concavidad], ax=axs[7, 1])\n",
    "sns.boxplot(data=df_cancer_z[simetria], ax=axs[8, 1])\n",
    "sns.boxplot(data=df_cancer_z[dim_frac], ax=axs[9, 1])"
   ]
  },
  {
   "cell_type": "markdown",
   "metadata": {},
   "source": [
    "Remoción de datos atípicos"
   ]
  },
  {
   "cell_type": "code",
   "execution_count": null,
   "metadata": {},
   "outputs": [],
   "source": [
    "def remove_outliers_iqr(data):\n",
    "    \n",
    "    # Calculate the first quartile (Q1) and third quartile (Q3)\n",
    "    Q1 = np.percentile(data, 25)\n",
    "    Q3 = np.percentile(data, 75)\n",
    "    \n",
    "    # Calculate the interquartile range (IQR)\n",
    "    IQR = Q3 - Q1\n",
    "    \n",
    "    # Define the lower and upper bounds for outliers\n",
    "    lower_bound = Q1 - 1.5 * IQR\n",
    "    upper_bound = Q3 + 1.5 * IQR\n",
    "    \n",
    "    # Remove outliers\n",
    "    data = np.where(data>upper_bound, upper_bound, np.where(data<lower_bound,lower_bound,data))\n",
    "    return data[(data >= lower_bound) & (data <= upper_bound)]"
   ]
  },
  {
   "cell_type": "code",
   "execution_count": null,
   "metadata": {},
   "outputs": [],
   "source": [
    "for i in df_cancer.columns:\n",
    "    df_cancer[i] = remove_outliers_iqr(df_cancer[i])\n",
    "\n",
    "len(df_cancer)"
   ]
  },
  {
   "cell_type": "code",
   "execution_count": null,
   "metadata": {},
   "outputs": [],
   "source": [
    "df_cancer"
   ]
  },
  {
   "cell_type": "code",
   "execution_count": null,
   "metadata": {},
   "outputs": [],
   "source": [
    "plt.figure(figsize=(15,10))\n",
    "sns.heatmap(df_cancer.corr(),fmt='.2g',annot=True)\n",
    "plt.show()"
   ]
  },
  {
   "cell_type": "markdown",
   "metadata": {},
   "source": [
    "> Una primera observación a destacar es la fuerte correlación del radio, perímetro y área de la imagen, debido a que el área es la que aporta más información, elegimos las columnas relacionadas para nuestro modelo.\n",
    "\n",
    "\n",
    "> El segundo aspecto a destacar son las correlaciones entre las medias de todos los datos y su peor valor registrado, si bien no tan significatico como el punto anterior, sigue teniendo una influencia significativa con valores de hasta 0.8. Se decidió por la media por aportar más información.\n",
    "\n",
    "Así despues de una purga de columnas obtenemos:"
   ]
  },
  {
   "cell_type": "code",
   "execution_count": null,
   "metadata": {},
   "outputs": [],
   "source": [
    "df_cancer_test =  df_cancer[['diagnosis', \n",
    "                            'area_mean', 'area_se',\n",
    "                            'smoothness_mean', 'smoothness_se',\n",
    "                            'compactness_mean', 'compactness_se',\n",
    "                            'concavity_mean', 'concavity_se',\n",
    "                            'concave points_mean', 'concave points_se',\n",
    "                            'symmetry_mean', 'symmetry_se',\n",
    "                            'fractal_dimension_mean', 'fractal_dimension_se']]"
   ]
  },
  {
   "cell_type": "code",
   "execution_count": null,
   "metadata": {},
   "outputs": [],
   "source": [
    "plt.figure(figsize=(15,10))\n",
    "sns.heatmap(df_cancer_test.corr(),fmt='.2g',annot=True)\n",
    "plt.show()"
   ]
  },
  {
   "cell_type": "markdown",
   "metadata": {},
   "source": [
    "En este segundo análisis de datos, notemos que la concavidad y los puntos de concavidad siguen fuertemente relacionados entre sí, elegimos los puntos de concavidad debido a que presenta una mayor correlación con el diagnóstico.\n",
    "\n",
    "Lo mismo sucede con la compactación, por este motivo se elige solo los puntos de concavidad."
   ]
  },
  {
   "cell_type": "code",
   "execution_count": null,
   "metadata": {},
   "outputs": [],
   "source": [
    "df_cancer_test =  df_cancer[['diagnosis', \n",
    "                            'area_mean', 'area_se',\n",
    "                            'smoothness_mean', 'smoothness_se',\n",
    "                            'concave points_mean', 'concave points_se',\n",
    "                            'symmetry_mean', 'symmetry_se',\n",
    "                            'fractal_dimension_mean', 'fractal_dimension_se']]"
   ]
  },
  {
   "cell_type": "code",
   "execution_count": null,
   "metadata": {},
   "outputs": [],
   "source": [
    "plt.figure(figsize=(15,10))\n",
    "sns.heatmap(df_cancer_test.corr(),fmt='.2g',annot=True)\n",
    "plt.show()"
   ]
  },
  {
   "cell_type": "code",
   "execution_count": null,
   "metadata": {},
   "outputs": [],
   "source": [
    "df_cancer_test"
   ]
  },
  {
   "cell_type": "markdown",
   "metadata": {},
   "source": [
    "**Variables**:\n",
    "\n",
    "**Explicada (Y)**: \n",
    "- Diagnostico(tumor benigno o no maligno)\n",
    "\n",
    "**Explicatorias (X)**: \n",
    "- area_mean \n",
    "- area_se\n",
    "- smoothness_mean \n",
    "- smoothness_se\n",
    "- concave points_mean\n",
    "- concave points_se\n",
    "- symmetry_mean \n",
    "- symmetry_se\n",
    "- fractal_dimension_mean\n",
    "- fractal_dimension_se"
   ]
  },
  {
   "cell_type": "markdown",
   "metadata": {},
   "source": [
    "Importamos las librerias"
   ]
  },
  {
   "cell_type": "code",
   "execution_count": 2,
   "metadata": {},
   "outputs": [],
   "source": [
    "from sklearn.model_selection import train_test_split\n",
    "from sklearn.linear_model import LogisticRegression\n",
    "from sklearn.metrics import accuracy_score, precision_score, recall_score, f1_score\n",
    "from sklearn.metrics import confusion_matrix"
   ]
  },
  {
   "cell_type": "code",
   "execution_count": null,
   "metadata": {},
   "outputs": [],
   "source": [
    "x = df_cancer_test.drop(columns=['diagnosis'])\n",
    "\n",
    "y = df_cancer_test['diagnosis']"
   ]
  },
  {
   "cell_type": "markdown",
   "metadata": {},
   "source": [
    "Datos de entrenamiento"
   ]
  },
  {
   "cell_type": "code",
   "execution_count": null,
   "metadata": {},
   "outputs": [],
   "source": [
    "x_train, x_test, y_train, y_test = train_test_split(x, y, test_size=0.2, random_state=10)"
   ]
  },
  {
   "cell_type": "markdown",
   "metadata": {},
   "source": [
    "Entrenamiento del modelo"
   ]
  },
  {
   "cell_type": "code",
   "execution_count": null,
   "metadata": {},
   "outputs": [],
   "source": []
  }
 ],
 "metadata": {
  "kernelspec": {
   "display_name": "Python 3",
   "language": "python",
   "name": "python3"
  },
  "language_info": {
   "codemirror_mode": {
    "name": "ipython",
    "version": 3
   },
   "file_extension": ".py",
   "mimetype": "text/x-python",
   "name": "python",
   "nbconvert_exporter": "python",
   "pygments_lexer": "ipython3",
   "version": "3.12.0"
  }
 },
 "nbformat": 4,
 "nbformat_minor": 2
}
