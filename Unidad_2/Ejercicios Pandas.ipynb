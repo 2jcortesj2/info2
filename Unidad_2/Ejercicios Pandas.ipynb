{
 "cells": [
  {
   "cell_type": "code",
   "execution_count": 1,
   "metadata": {},
   "outputs": [],
   "source": [
    "import pandas as pd \n",
    "import numpy as np\n",
    "import os\n",
    "import glob"
   ]
  },
  {
   "cell_type": "code",
   "execution_count": 4,
   "metadata": {},
   "outputs": [
    {
     "name": "stdout",
     "output_type": "stream",
     "text": [
      "a    1.030324\n",
      "b    1.393284\n",
      "c    1.090656\n",
      "d   -0.639105\n",
      "e    1.080571\n",
      "dtype: float64\n",
      "Index(['a', 'b', 'c', 'd', 'e'], dtype='object')\n"
     ]
    }
   ],
   "source": [
    "s = pd.Series(np.random.randn(5), index=[\"a\",\"b\",\"c\",\"d\",\"e\"])\n",
    "s.index\n",
    "print(s)\n",
    "print(s.index)"
   ]
  },
  {
   "cell_type": "code",
   "execution_count": 3,
   "metadata": {},
   "outputs": [
    {
     "name": "stdout",
     "output_type": "stream",
     "text": [
      "b    1\n",
      "a    0\n",
      "c    2\n",
      "dtype: int64\n",
      "b    1.0\n",
      "c    2.0\n",
      "d    NaN\n",
      "a    0.0\n",
      "dtype: float64\n"
     ]
    }
   ],
   "source": [
    "# por defecto ordena los indices\n",
    "\n",
    "d = {'b':1, 'a':0, 'c':2}\n",
    "s = pd.Series(d)\n",
    "print(s)\n",
    "\n",
    "# Cuando yo quiero ordenar:\n",
    "\n",
    "d = {'b':1, 'a':0, 'c':2}\n",
    "s = pd.Series(d, index=[\"b\",\"c\",\"d\",\"a\"])\n",
    "print(s)"
   ]
  },
  {
   "cell_type": "code",
   "execution_count": 2,
   "metadata": {},
   "outputs": [],
   "source": [
    "current = os.getcwd() # Toma la dirección de la carpeta actual\n",
    "\n",
    "file = glob.glob(current+'/*.csv') # Obtiene una lista con todos los  .csv\n",
    "\n",
    "mmse = pd.read_csv(file[0], sep=';') # Se optiene la tabla en panda"
   ]
  },
  {
   "cell_type": "code",
   "execution_count": 4,
   "metadata": {},
   "outputs": [
    {
     "name": "stdout",
     "output_type": "stream",
     "text": [
      "0      6\n",
      "1      3\n",
      "2     16\n",
      "3     11\n",
      "4      5\n",
      "5      5\n",
      "6     11\n",
      "7     14\n",
      "8     16\n",
      "9     13\n",
      "10     6\n",
      "11     4\n",
      "12    11\n",
      "13    11\n",
      "14     4\n",
      "15     7\n",
      "16     9\n",
      "17     6\n",
      "18     3\n",
      "19    11\n",
      "20    12\n",
      "21     2\n",
      "22    12\n",
      "Name: Escolaridad, dtype: int64\n",
      "count    23.000000\n",
      "mean      8.608696\n",
      "std       4.303689\n",
      "min       2.000000\n",
      "25%       5.000000\n",
      "50%       9.000000\n",
      "75%      11.500000\n",
      "max      16.000000\n",
      "Name: Escolaridad, dtype: float64\n"
     ]
    }
   ],
   "source": [
    "print(mmse['Escolaridad']) # Imprime la colummna escolaridad sin encabezado\n",
    "print(mmse['Escolaridad'].describe()) # Imprime estadísticas varias de Escolaridad"
   ]
  },
  {
   "cell_type": "code",
   "execution_count": 5,
   "metadata": {},
   "outputs": [
    {
     "name": "stdout",
     "output_type": "stream",
     "text": [
      "         Edad en la visita       Sexo  Escolaridad  Orientacion y Tiempo  \\\n",
      "Codigo                                                                     \n",
      "CTR_001                 56   Femenino            6                     5   \n",
      "CTR_002                 53   Femenino            3                     5   \n",
      "CTR_003                 56  Masculino           16                     5   \n",
      "CTR_004                 47   Femenino           11                     5   \n",
      "CTR_005                 60   Femenino            5                     4   \n",
      "CTR_006                 63  Masculino            5                     5   \n",
      "CTR_007                 48   Femenino           11                     5   \n",
      "CTR_008                 55  Masculino           14                     5   \n",
      "CTR_009                 39   Femenino           16                     5   \n",
      "CTR_010                 49  Masculino           13                     5   \n",
      "CTR_011                 56  Masculino            6                     5   \n",
      "CTR_012                 62  Masculino            4                     5   \n",
      "CTR_013                 40   Femenino           11                     5   \n",
      "CTR_014                 53  Masculino           11                     5   \n",
      "CTR_015                 43   Femenino            4                     5   \n",
      "CTR_016                 64   Femenino            7                     5   \n",
      "CTR_017                 45  Masculino            9                     5   \n",
      "CTR_018                 60   Femenino            6                     4   \n",
      "CTR_019                 50   Femenino            3                     5   \n",
      "CTR_020                 45   Femenino           11                     5   \n",
      "CTR_021                 44  Masculino           12                     5   \n",
      "CTR_022                 40  Masculino            2                     5   \n",
      "CTR_023                 49  Masculino           12                     5   \n",
      "\n",
      "         Orientacion y Lugar  Memoria de fijacion  Atencion  \\\n",
      "Codigo                                                        \n",
      "CTR_001                    4                    3         4   \n",
      "CTR_002                    5                    3         5   \n",
      "CTR_003                    5                    3         5   \n",
      "CTR_004                    5                    3         3   \n",
      "CTR_005                    5                    3         5   \n",
      "CTR_006                    5                    3         5   \n",
      "CTR_007                    5                    3         4   \n",
      "CTR_008                    5                    3         5   \n",
      "CTR_009                    5                    3         5   \n",
      "CTR_010                    5                    3         5   \n",
      "CTR_011                    3                    3         4   \n",
      "CTR_012                    5                    3         0   \n",
      "CTR_013                    5                    3         5   \n",
      "CTR_014                    5                    3         4   \n",
      "CTR_015                    5                    3         3   \n",
      "CTR_016                    4                    3         3   \n",
      "CTR_017                    5                    3         4   \n",
      "CTR_018                    5                    3         5   \n",
      "CTR_019                    5                    3         5   \n",
      "CTR_020                    5                    3         5   \n",
      "CTR_021                    5                    3         5   \n",
      "CTR_022                    5                    3         3   \n",
      "CTR_023                    5                    3         5   \n",
      "\n",
      "         Memoria de Evocacion  Lenguaje  Total  \n",
      "Codigo                                          \n",
      "CTR_001                     2         9     27  \n",
      "CTR_002                     3         9     30  \n",
      "CTR_003                     3         8     29  \n",
      "CTR_004                     3         8     27  \n",
      "CTR_005                     2         8     27  \n",
      "CTR_006                     2         9     29  \n",
      "CTR_007                     2         9     28  \n",
      "CTR_008                     2         9     29  \n",
      "CTR_009                     3         9     30  \n",
      "CTR_010                     3         9     30  \n",
      "CTR_011                     2         8     25  \n",
      "CTR_012                     3         9     25  \n",
      "CTR_013                     3         9     30  \n",
      "CTR_014                     0         9     26  \n",
      "CTR_015                     3         8     27  \n",
      "CTR_016                     3         9     27  \n",
      "CTR_017                     3         9     29  \n",
      "CTR_018                     3         9     29  \n",
      "CTR_019                     3         9     30  \n",
      "CTR_020                     3         9     30  \n",
      "CTR_021                     2         9     29  \n",
      "CTR_022                     3         9     28  \n",
      "CTR_023                     3         9     30  \n",
      "Codigo                   CTR_002\n",
      "Edad en la visita             53\n",
      "Sexo                    Femenino\n",
      "Escolaridad                    3\n",
      "Orientacion y Tiempo           5\n",
      "Orientacion y Lugar            5\n",
      "Memoria de fijacion            3\n",
      "Atencion                       5\n",
      "Memoria de Evocacion           3\n",
      "Lenguaje                       9\n",
      "Total                         30\n",
      "Name: 1, dtype: object\n",
      "\n",
      "\n",
      "Edad en la visita             47\n",
      "Sexo                    Femenino\n",
      "Escolaridad                   11\n",
      "Orientacion y Tiempo           5\n",
      "Orientacion y Lugar            5\n",
      "Memoria de fijacion            3\n",
      "Atencion                       3\n",
      "Memoria de Evocacion           3\n",
      "Lenguaje                       8\n",
      "Total                         27\n",
      "Name: CTR_004, dtype: object\n"
     ]
    }
   ],
   "source": [
    "mmse_copy = mmse.set_index('Codigo')\n",
    "print(mmse_copy)\n",
    "print(mmse.iloc[1])\n",
    "print('\\n')\n",
    "print(mmse_copy.loc['CTR_004'])"
   ]
  }
 ],
 "metadata": {
  "kernelspec": {
   "display_name": "Python 3",
   "language": "python",
   "name": "python3"
  },
  "language_info": {
   "codemirror_mode": {
    "name": "ipython",
    "version": 3
   },
   "file_extension": ".py",
   "mimetype": "text/x-python",
   "name": "python",
   "nbconvert_exporter": "python",
   "pygments_lexer": "ipython3",
   "version": "3.11.2"
  },
  "orig_nbformat": 4
 },
 "nbformat": 4,
 "nbformat_minor": 2
}
