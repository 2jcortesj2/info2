{
 "cells": [
  {
   "cell_type": "code",
   "execution_count": 14,
   "metadata": {},
   "outputs": [],
   "source": [
    "from BD import main, Persona"
   ]
  },
  {
   "cell_type": "code",
   "execution_count": 10,
   "metadata": {},
   "outputs": [
    {
     "name": "stdout",
     "output_type": "stream",
     "text": [
      "0\n",
      "hola\n",
      "1\n",
      "adios\n"
     ]
    }
   ],
   "source": [
    "A = {'hola':[1, 2, 3], 'adios':[4, 5, 6],}\n",
    "\n",
    "\n",
    "for p, c in enumerate(A):\n",
    "    print(p)\n",
    "    print(c)"
   ]
  },
  {
   "cell_type": "code",
   "execution_count": 13,
   "metadata": {},
   "outputs": [
    {
     "data": {
      "text/plain": [
       "('Juan', '123', 'm')"
      ]
     },
     "execution_count": 13,
     "metadata": {},
     "output_type": "execute_result"
    }
   ],
   "source": [
    "a = Persona()\n",
    "a.asignarNombre(\"Paciente\")\n",
    "a.asignarGenero(\"Paciente\")\n",
    "a.asignarCedula(\"Paciente\")\n",
    "\n",
    "a.guardarInfo()"
   ]
  },
  {
   "cell_type": "code",
   "execution_count": null,
   "metadata": {},
   "outputs": [],
   "source": []
  }
 ],
 "metadata": {
  "kernelspec": {
   "display_name": "Python 3",
   "language": "python",
   "name": "python3"
  },
  "language_info": {
   "codemirror_mode": {
    "name": "ipython",
    "version": 3
   },
   "file_extension": ".py",
   "mimetype": "text/x-python",
   "name": "python",
   "nbconvert_exporter": "python",
   "pygments_lexer": "ipython3",
   "version": "3.10.6"
  },
  "orig_nbformat": 4,
  "vscode": {
   "interpreter": {
    "hash": "3ba54d53b4f7f89d1dd7ea99f5c6e5de908972012984bcc4481047d3bf1a17fd"
   }
  }
 },
 "nbformat": 4,
 "nbformat_minor": 2
}
