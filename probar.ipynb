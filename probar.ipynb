{
 "cells": [
  {
   "cell_type": "code",
   "execution_count": null,
   "metadata": {},
   "outputs": [],
   "source": [
    "from BD import Paciente"
   ]
  },
  {
   "cell_type": "code",
   "execution_count": null,
   "metadata": {},
   "outputs": [],
   "source": [
    "A = {1:'hola'}\n",
    "\n",
    "\n",
    "for p, c in enumerate(A):\n",
    "    print(p)\n",
    "    print(c)"
   ]
  }
 ],
 "metadata": {
  "kernelspec": {
   "display_name": "Python 3",
   "language": "python",
   "name": "python3"
  },
  "language_info": {
   "name": "python",
   "version": "3.7.4"
  },
  "orig_nbformat": 4,
  "vscode": {
   "interpreter": {
    "hash": "0f7ef4faf50f8009fa4fca9b80242946ed03518cec2c79d0cb16e73f757a941d"
   }
  }
 },
 "nbformat": 4,
 "nbformat_minor": 2
}
