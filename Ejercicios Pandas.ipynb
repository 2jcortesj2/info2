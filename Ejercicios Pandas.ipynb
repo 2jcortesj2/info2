{
 "cells": [
  {
   "cell_type": "code",
   "execution_count": 6,
   "metadata": {},
   "outputs": [],
   "source": [
    "import pandas as pd \n",
    "import numpy as np\n",
    "import os\n",
    "import glob"
   ]
  },
  {
   "cell_type": "code",
   "execution_count": 4,
   "metadata": {},
   "outputs": [
    {
     "name": "stdout",
     "output_type": "stream",
     "text": [
      "a    1.030324\n",
      "b    1.393284\n",
      "c    1.090656\n",
      "d   -0.639105\n",
      "e    1.080571\n",
      "dtype: float64\n",
      "Index(['a', 'b', 'c', 'd', 'e'], dtype='object')\n"
     ]
    }
   ],
   "source": [
    "s = pd.Series(np.random.randn(5), index=[\"a\",\"b\",\"c\",\"d\",\"e\"])\n",
    "s.index\n",
    "print(s)\n",
    "print(s.index)"
   ]
  },
  {
   "cell_type": "code",
   "execution_count": null,
   "metadata": {},
   "outputs": [
    {
     "name": "stdout",
     "output_type": "stream",
     "text": [
      "b    1\n",
      "a    0\n",
      "c    2\n",
      "dtype: int64\n"
     ]
    }
   ],
   "source": [
    "# por defecto ordena los indices\n",
    "\n",
    "d = {'b':1, 'a':0, 'c':2}\n",
    "s = pd.Series(d)\n",
    "print(s)\n",
    "\n",
    "# Cuando yo quiero ordenar:\n",
    "\n",
    "d = {'b':1, 'a':0, 'c':2}\n",
    "s = pd.Series(d, index=[\"b\",\"c\",\"d\",\"a\"])\n",
    "print(s)"
   ]
  },
  {
   "cell_type": "code",
   "execution_count": null,
   "metadata": {},
   "outputs": [],
   "source": [
    "current = os.getcwd() # Toma la dirección de la carpeta actual\n",
    "\n",
    "file = glob.glob(current+'/*.csv') # Obtiene una lista con todos los  .csv\n",
    "\n",
    "mmse = pd.read_csv(file[0], sep=';') # Se optiene la tabla en panda"
   ]
  },
  {
   "cell_type": "code",
   "execution_count": null,
   "metadata": {},
   "outputs": [],
   "source": [
    "print(mmse['Escolaridad']) # Imprime la colummna escolaridad sin encabezado\n",
    "print(mmse['Escolaridad'].describe()) # Imprime estadísticas varias de Escolaridad"
   ]
  },
  {
   "cell_type": "code",
   "execution_count": null,
   "metadata": {},
   "outputs": [],
   "source": [
    "mmse_copy = mmse.set_index('Codigo')\n",
    "print(mmse_copy)\n",
    "print(mmse.iloc[1])\n",
    "print('\\n')\n",
    "print(mmse_copy.loc['CTR_004'])"
   ]
  }
 ],
 "metadata": {
  "kernelspec": {
   "display_name": "Python 3",
   "language": "python",
   "name": "python3"
  },
  "language_info": {
   "codemirror_mode": {
    "name": "ipython",
    "version": 3
   },
   "file_extension": ".py",
   "mimetype": "text/x-python",
   "name": "python",
   "nbconvert_exporter": "python",
   "pygments_lexer": "ipython3",
   "version": "3.11.2"
  },
  "orig_nbformat": 4
 },
 "nbformat": 4,
 "nbformat_minor": 2
}
