{
 "cells": [
  {
   "cell_type": "code",
   "execution_count": 2,
   "metadata": {},
   "outputs": [],
   "source": [
    "import numpy as np"
   ]
  },
  {
   "attachments": {},
   "cell_type": "markdown",
   "metadata": {},
   "source": [
    "### Ejercicio 1\n",
    "\n",
    "- Crear una matriz de ceros de tipo entero 3x4.\n",
    "- Crear una matriz de ceros de tipo entero 3x4 excepto la primera fila que será uno.\n",
    "- Crear una matriz de ceros de tipo entero 3x4 excepto la última fila que será el rango entre 5 y 8."
   ]
  },
  {
   "cell_type": "code",
   "execution_count": 11,
   "metadata": {},
   "outputs": [
    {
     "data": {
      "text/plain": [
       "array([[0., 0., 0., 0.],\n",
       "       [0., 0., 0., 0.],\n",
       "       [0., 0., 0., 0.]])"
      ]
     },
     "execution_count": 11,
     "metadata": {},
     "output_type": "execute_result"
    }
   ],
   "source": [
    "a = np.zeros([3, 4])\n",
    "a"
   ]
  },
  {
   "cell_type": "code",
   "execution_count": 47,
   "metadata": {},
   "outputs": [
    {
     "data": {
      "text/plain": [
       "array([[1., 1., 1., 1.],\n",
       "       [0., 0., 0., 0.],\n",
       "       [0., 0., 0., 0.]])"
      ]
     },
     "execution_count": 47,
     "metadata": {},
     "output_type": "execute_result"
    }
   ],
   "source": [
    "a = np.ones([1, 4])\n",
    "b = np.zeros([2, 4])\n",
    "\n",
    "c = np.concatenate((a, b), axis=0)\n",
    "c"
   ]
  },
  {
   "cell_type": "code",
   "execution_count": 125,
   "metadata": {},
   "outputs": [
    {
     "data": {
      "text/plain": [
       "array([[5., 6., 7., 8.],\n",
       "       [0., 0., 0., 0.],\n",
       "       [0., 0., 0., 0.]])"
      ]
     },
     "execution_count": 125,
     "metadata": {},
     "output_type": "execute_result"
    }
   ],
   "source": [
    "a = np.arange(5, 9, 1)\n",
    "b = np.zeros([2, 4])\n",
    "\n",
    "c = np.concatenate(([a], b), axis=0)\n",
    "c\n"
   ]
  },
  {
   "attachments": {},
   "cell_type": "markdown",
   "metadata": {},
   "source": [
    "### Ejercicio 2\n",
    "\n",
    "- Crea un vector de 10 elementos, siendo los índices impares unos y los índices pares dos.\n",
    "- Crea un «tablero de ajedrez», con unos en las casillas negras y ceros en las blancas."
   ]
  },
  {
   "cell_type": "code",
   "execution_count": 77,
   "metadata": {},
   "outputs": [
    {
     "name": "stdout",
     "output_type": "stream",
     "text": [
      "[2. 1. 2. 1. 2. 1. 2. 1. 2. 1.]\n"
     ]
    }
   ],
   "source": [
    "a = np.array([])\n",
    "\n",
    "while np.size(a) < 10:\n",
    "    if np.size(a) % 2 == 0:\n",
    "        a = np.concatenate((a, np.array([2])))\n",
    "    else:\n",
    "        a = np.concatenate((a, np.array([1])))\n",
    "\n",
    "print(a)"
   ]
  },
  {
   "cell_type": "code",
   "execution_count": 135,
   "metadata": {},
   "outputs": [
    {
     "name": "stdout",
     "output_type": "stream",
     "text": [
      "[[0. 1. 0. 1. 0. 1. 0. 1.]\n",
      " [0. 1. 0. 1. 0. 1. 0. 1.]\n",
      " [1. 0. 1. 0. 1. 0. 1. 0.]\n",
      " [0. 1. 0. 1. 0. 1. 0. 1.]\n",
      " [1. 0. 1. 0. 1. 0. 1. 0.]\n",
      " [0. 1. 0. 1. 0. 1. 0. 1.]\n",
      " [1. 0. 1. 0. 1. 0. 1. 0.]\n",
      " [0. 1. 0. 1. 0. 1. 0. 1.]]\n"
     ]
    }
   ],
   "source": [
    "a = np.array([])\n",
    "b = np.array([])\n",
    "\n",
    "while np.size(a) < 8:\n",
    "    if np.size(a) % 2 == 0:\n",
    "        a = np.concatenate((a, np.array([0])))\n",
    "    else:\n",
    "        a = np.concatenate((a, np.array([1])))\n",
    "\n",
    "while np.size(b) < 8:\n",
    "    if np.size(b) % 2 == 0:\n",
    "        b = np.concatenate((b, np.array([1])))\n",
    "    else:\n",
    "        b = np.concatenate((b, np.array([0])))\n",
    "\n",
    "tablero = [a]\n",
    "\n",
    "fila, columna = np.shape(tablero)\n",
    "while fila < 8:\n",
    "    if fila % 2 == 0:\n",
    "        tablero = np.concatenate((tablero, [b]), axis=0)\n",
    "        fila, columna = np.shape(tablero)\n",
    "    else:\n",
    "        tablero = np.concatenate((tablero, [a]), axis=0)\n",
    "        fila, columna = np.shape(tablero)\n",
    "\n",
    "print(tablero)\n",
    "\n"
   ]
  },
  {
   "cell_type": "code",
   "execution_count": 4,
   "metadata": {},
   "outputs": [
    {
     "name": "stdout",
     "output_type": "stream",
     "text": [
      "[[0. 1. 0. 1. 0. 1. 0. 1.]\n",
      " [1. 0. 1. 0. 1. 0. 1. 0.]\n",
      " [0. 1. 0. 1. 0. 1. 0. 1.]\n",
      " [1. 0. 1. 0. 1. 0. 1. 0.]\n",
      " [0. 1. 0. 1. 0. 1. 0. 1.]\n",
      " [1. 0. 1. 0. 1. 0. 1. 0.]\n",
      " [0. 1. 0. 1. 0. 1. 0. 1.]\n",
      " [1. 0. 1. 0. 1. 0. 1. 0.]]\n"
     ]
    }
   ],
   "source": [
    "tablero = np.zeros((8, 8))\n",
    "\n",
    "for i in range(8):\n",
    "    for j in range(8):\n",
    "        if (i + j) % 2 != 0:\n",
    "            tablero[i][j] = 1\n",
    "\n",
    "print(tablero)\n"
   ]
  },
  {
   "attachments": {},
   "cell_type": "markdown",
   "metadata": {},
   "source": [
    "### Ejercicio 3\n",
    "\n",
    "- Crea  una  matriz  aleatoria  5x5  y  halla  los  valores mínimo y máximo.\n",
    "- Normalizar la matriz anterior."
   ]
  },
  {
   "cell_type": "code",
   "execution_count": 137,
   "metadata": {},
   "outputs": [
    {
     "name": "stdout",
     "output_type": "stream",
     "text": [
      "La matriz aleatoria es:\n",
      " [[0.24371687 0.20575285 0.70913141 0.05752546 0.50298354]\n",
      " [0.50477034 0.12909767 0.91383991 0.08717525 0.2539076 ]\n",
      " [0.28746827 0.40590116 0.61003354 0.49780937 0.71967687]\n",
      " [0.41613048 0.62612067 0.46773954 0.29522387 0.13385657]\n",
      " [0.54408281 0.87103815 0.34520823 0.51349331 0.45941603]]\n",
      "\n",
      "El valor mínimo de la matriz es: 0.05752546457947949\n",
      "El valor máximo de la matriz es: 0.9138399066176623\n"
     ]
    }
   ],
   "source": [
    "matriz = np.random.rand(5, 5)\n",
    "\n",
    "\n",
    "valor_minimo = np.min(matriz)\n",
    "valor_maximo = np.max(matriz)\n",
    "\n",
    "print(\"La matriz aleatoria es:\\n\", matriz)\n",
    "print(\"\\nEl valor mínimo de la matriz es:\", valor_minimo)\n",
    "print(\"El valor máximo de la matriz es:\", valor_maximo)"
   ]
  },
  {
   "cell_type": "code",
   "execution_count": 138,
   "metadata": {},
   "outputs": [
    {
     "name": "stdout",
     "output_type": "stream",
     "text": [
      "La matriz normalizada es:\n",
      " [[0.09980936 0.08426195 0.29041056 0.0235584  0.20598683]\n",
      " [0.20671858 0.05286936 0.37424482 0.03570087 0.10398277]\n",
      " [0.11772687 0.16622868 0.24982701 0.20386785 0.29472924]\n",
      " [0.1704179  0.25641517 0.19155335 0.12090302 0.05481828]\n",
      " [0.22281821 0.35671622 0.14137311 0.21029089 0.18814463]]\n"
     ]
    }
   ],
   "source": [
    "# Ejecutar celda anterior\n",
    "norma = np.linalg.norm(matriz)\n",
    "matriz_normalizada = matriz / norma\n",
    "\n",
    "print(\"La matriz normalizada es:\\n\", matriz_normalizada) "
   ]
  }
 ],
 "metadata": {
  "kernelspec": {
   "display_name": "Python 3",
   "language": "python",
   "name": "python3"
  },
  "language_info": {
   "codemirror_mode": {
    "name": "ipython",
    "version": 3
   },
   "file_extension": ".py",
   "mimetype": "text/x-python",
   "name": "python",
   "nbconvert_exporter": "python",
   "pygments_lexer": "ipython3",
   "version": "3.11.2"
  },
  "orig_nbformat": 4
 },
 "nbformat": 4,
 "nbformat_minor": 2
}
